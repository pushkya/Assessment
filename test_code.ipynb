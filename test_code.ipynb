{
 "cells": [
  {
   "cell_type": "code",
   "execution_count": 34,
   "id": "6e4493bf",
   "metadata": {},
   "outputs": [],
   "source": [
    "import psycopg2\n",
    "import base64\n",
    "import boto3\n",
    "import json\n",
    "import configparser\n",
    "import argparse\n",
    "from datetime import datetime\n",
    "import collections\n",
    "import sys"
   ]
  },
  {
   "cell_type": "code",
   "execution_count": 83,
   "id": "e2168617",
   "metadata": {},
   "outputs": [],
   "source": [
    "def extract(url, queue_name, waitTime, numberOfMessages):\n",
    "    \n",
    "    #Instantiating SQS client using boto3 to receive messages from queue\n",
    "    sqsClient = boto3.client(\"sqs\", endpoint_url = url)\n",
    "    messages = []\n",
    "    \n",
    "    try:\n",
    "        response = sqsClient.receive_message(\n",
    "                QueueUrl = url + '/' + queue_name,\n",
    "                WaitTimeSeconds = waitTime,\n",
    "                MaxNumberOfMessages = numberOfMessages)\n",
    "    except Exception as exception:\n",
    "        #Print the exception occuring while receiving the response\n",
    "        print(\"Error - \" +str(exception) + '. Try again')\n",
    "        sys.exit()\n",
    "        \n",
    "    #Appending response messages in the queue    \n",
    "    messages = response['Messages']\n",
    "    \n",
    "    return messages"
   ]
  },
  {
   "cell_type": "code",
   "execution_count": 84,
   "id": "458f5cec",
   "metadata": {},
   "outputs": [],
   "source": [
    "messages = extract('http://localhost:4566', 'login-queue', 10,10)"
   ]
  },
  {
   "cell_type": "code",
   "execution_count": 85,
   "id": "a3728c6e",
   "metadata": {},
   "outputs": [
    {
     "data": {
      "text/plain": [
       "[{'MessageId': '545e2971-df9d-4bce-969f-7c60c21e079c',\n",
       "  'ReceiptHandle': 'MDQ0NDhiNDEtMDQ1Yi00OWEwLThkZjEtYmNiNDZkYTM3YzI3IGFybjphd3M6c3FzOnVzLWVhc3QtMTowMDAwMDAwMDAwMDA6bG9naW4tcXVldWUgNTQ1ZTI5NzEtZGY5ZC00YmNlLTk2OWYtN2M2MGMyMWUwNzljIDE2NzM5ODA1MTIuNDkzOTgxNg==',\n",
       "  'MD5OfBody': 'e4f1de8c099c0acd7cb05ba9e790ac02',\n",
       "  'Body': '{\"user_id\": \"424cdd21-063a-43a7-b91b-7ca1a833afae\", \"app_version\": \"2.3.0\", \"device_type\": \"android\", \"ip\": \"199.172.111.135\", \"locale\": \"RU\", \"device_id\": \"593-47-5928\"}'},\n",
       " {'MessageId': '332cfbf9-6d58-4104-857e-21a9ca45e8c9',\n",
       "  'ReceiptHandle': 'NTRiNmQ4NmItYjJlMS00NjY4LWJkNGUtMTE5YjY0NzAzNDBlIGFybjphd3M6c3FzOnVzLWVhc3QtMTowMDAwMDAwMDAwMDA6bG9naW4tcXVldWUgMzMyY2ZiZjktNmQ1OC00MTA0LTg1N2UtMjFhOWNhNDVlOGM5IDE2NzM5ODA1MTIuNDk0MjM4NA==',\n",
       "  'MD5OfBody': '347f6ce29bd4f361b13bc54c05d0a5fc',\n",
       "  'Body': '{\"user_id\": \"c0173198-76a8-4e67-bfc2-74eaa3bbff57\", \"app_version\": \"0.2.6\", \"device_type\": \"ios\", \"ip\": \"241.6.88.151\", \"locale\": \"PH\", \"device_id\": \"104-25-0070\"}'},\n",
       " {'MessageId': '582b1f7a-dd1a-4333-ad76-8fd77710e157',\n",
       "  'ReceiptHandle': 'OTdkOTUwOTMtOWE3My00ZWYxLWE4NzQtOGNhNDZhNjU4MGMxIGFybjphd3M6c3FzOnVzLWVhc3QtMTowMDAwMDAwMDAwMDA6bG9naW4tcXVldWUgNTgyYjFmN2EtZGQxYS00MzMzLWFkNzYtOGZkNzc3MTBlMTU3IDE2NzM5ODA1MTIuNDk0Mzg0',\n",
       "  'MD5OfBody': '13a2f8b8b0eb99bed46f3a2a5548a601',\n",
       "  'Body': '{\"user_id\": \"66e0635b-ce36-4ec7-aa9e-8a8fca9b83d4\", \"app_version\": \"2.2.1\", \"device_type\": \"ios\", \"ip\": \"130.111.167.54\", \"locale\": null, \"device_id\": \"127-42-0862\"}'},\n",
       " {'MessageId': 'bbb291c4-7524-461e-8848-f1b61b17d525',\n",
       "  'ReceiptHandle': 'MTE2MjNhYWQtYzJkYS00ZTExLTlmMmUtNTFiZTg3Yjc1Yjk0IGFybjphd3M6c3FzOnVzLWVhc3QtMTowMDAwMDAwMDAwMDA6bG9naW4tcXVldWUgYmJiMjkxYzQtNzUyNC00NjFlLTg4NDgtZjFiNjFiMTdkNTI1IDE2NzM5ODA1MTIuNDk0NTU3Ng==',\n",
       "  'MD5OfBody': '97cd3106990ee7cc663d3e7cd2f6cd4d',\n",
       "  'Body': '{\"user_id\": \"181452ad-20c3-4e93-86ad-1934c9248903\", \"app_version\": \"0.96\", \"device_type\": \"android\", \"ip\": \"118.79.6.245\", \"locale\": \"ID\", \"device_id\": \"190-44-3099\"}'},\n",
       " {'MessageId': '8bdc340c-a991-49e7-8601-631236784a15',\n",
       "  'ReceiptHandle': 'MTNmNzRjNzEtZTBjOS00Y2QwLWJlNGQtZDgxMGUzMjUzZjQ0IGFybjphd3M6c3FzOnVzLWVhc3QtMTowMDAwMDAwMDAwMDA6bG9naW4tcXVldWUgOGJkYzM0MGMtYTk5MS00OWU3LTg2MDEtNjMxMjM2Nzg0YTE1IDE2NzM5ODA1MTIuNDk0NzMyNA==',\n",
       "  'MD5OfBody': '1dbb6e2abb89c160500061a651a05f6d',\n",
       "  'Body': '{\"user_id\": \"60b9441c-e39d-406f-bba0-c7ff0e0ee07f\", \"app_version\": \"0.4.6\", \"device_type\": \"android\", \"ip\": \"223.31.97.46\", \"locale\": \"FR\", \"device_id\": \"149-99-5185\"}'},\n",
       " {'MessageId': 'dbf14fcc-5d0d-48e5-b9f7-91de7fbf87e9',\n",
       "  'ReceiptHandle': 'ZTBlYmY3NzktMTgyNy00M2ZmLWFjZGEtZjRiMzc3ZDZjYmE0IGFybjphd3M6c3FzOnVzLWVhc3QtMTowMDAwMDAwMDAwMDA6bG9naW4tcXVldWUgZGJmMTRmY2MtNWQwZC00OGU1LWI5ZjctOTFkZTdmYmY4N2U5IDE2NzM5ODA1MTIuNDk0ODcyOA==',\n",
       "  'MD5OfBody': '2bc91e2084e9d084784c11959ddf9f01',\n",
       "  'Body': '{\"user_id\": \"5082b1ae-6523-4e3b-a1d8-9750b4407ee8\", \"app_version\": \"3.7\", \"device_type\": \"android\", \"ip\": \"235.167.63.6\", \"locale\": null, \"device_id\": \"346-96-4168\"}'},\n",
       " {'MessageId': 'a5038b2d-d9d5-43d5-8b17-d5bf4699372a',\n",
       "  'ReceiptHandle': 'MjhiZmI2N2EtZmJiYy00MWIxLWFjNDctYWYwNjVjZmNkZjJkIGFybjphd3M6c3FzOnVzLWVhc3QtMTowMDAwMDAwMDAwMDA6bG9naW4tcXVldWUgYTUwMzhiMmQtZDlkNS00M2Q1LThiMTctZDViZjQ2OTkzNzJhIDE2NzM5ODA1MTIuNDk1MDEzMg==',\n",
       "  'MD5OfBody': '789fafa471f7330deb789f421a6f226f',\n",
       "  'Body': '{\"user_id\": \"5bc74293-3ca1-4f34-bb89-523887d0cc2f\", \"app_version\": \"2.2.8\", \"device_type\": \"ios\", \"ip\": \"240.162.230.101\", \"locale\": \"PT\", \"device_id\": \"729-06-2799\"}'},\n",
       " {'MessageId': '9f227b85-1dae-49cd-8f38-8e0c35f4a822',\n",
       "  'ReceiptHandle': 'ZjBkMDg5MzAtMmRiNy00YzdhLTlkYTEtNGFlNGQwYjc5MDUwIGFybjphd3M6c3FzOnVzLWVhc3QtMTowMDAwMDAwMDAwMDA6bG9naW4tcXVldWUgOWYyMjdiODUtMWRhZS00OWNkLThmMzgtOGUwYzM1ZjRhODIyIDE2NzM5ODA1MTIuNDk1MTM5',\n",
       "  'MD5OfBody': 'b214008b4c0170823dfc4e8adb481502',\n",
       "  'Body': '{\"user_id\": \"92d8ceec-2e12-49f3-81bd-518fe66971ec\", \"app_version\": \"0.5.5\", \"device_type\": \"android\", \"ip\": \"194.99.130.72\", \"locale\": \"BR\", \"device_id\": \"762-96-1217\"}'},\n",
       " {'MessageId': 'ea0410e2-e490-4711-a78a-ac9d2bce1d33',\n",
       "  'ReceiptHandle': 'N2RlMzM2NTItNTY0Mi00MDE3LWE5YzktZDcxY2VjMjI0MTQwIGFybjphd3M6c3FzOnVzLWVhc3QtMTowMDAwMDAwMDAwMDA6bG9naW4tcXVldWUgZWEwNDEwZTItZTQ5MC00NzExLWE3OGEtYWM5ZDJiY2UxZDMzIDE2NzM5ODA1MTIuNDk1Mjc1Mw==',\n",
       "  'MD5OfBody': '60b50843a65a7b54f882f8749744569a',\n",
       "  'Body': '{\"user_id\": \"05e153b1-4fa1-474c-bd7e-9f74d1c495e7\", \"app_version\": \"0.5.0\", \"device_type\": \"android\", \"ip\": \"163.2.96.136\", \"locale\": null, \"device_id\": \"431-77-3545\"}'},\n",
       " {'MessageId': 'a72a37ed-abb3-4419-8ac1-48db52e0afd6',\n",
       "  'ReceiptHandle': 'NzJmZmE5NDMtNDJkNS00ZGE2LWEyOTAtN2M5MWNkMzdlMTA3IGFybjphd3M6c3FzOnVzLWVhc3QtMTowMDAwMDAwMDAwMDA6bG9naW4tcXVldWUgYTcyYTM3ZWQtYWJiMy00NDE5LThhYzEtNDhkYjUyZTBhZmQ2IDE2NzM5ODA1MTIuNDk1NDEyNg==',\n",
       "  'MD5OfBody': '743825ffb45c4d43f389778c7f70514f',\n",
       "  'Body': '{\"user_id\": \"325c0f3d-da25-45ff-aff4-81816db069bc\", \"app_version\": \"0.60\", \"device_type\": \"android\", \"ip\": \"172.99.101.28\", \"locale\": \"RU\", \"device_id\": \"649-26-7827\"}'}]"
      ]
     },
     "execution_count": 85,
     "metadata": {},
     "output_type": "execute_result"
    }
   ],
   "source": [
    "messages"
   ]
  },
  {
   "cell_type": "code",
   "execution_count": 134,
   "id": "ef7b3a51",
   "metadata": {},
   "outputs": [],
   "source": [
    "def encodeAndDecode(messageAttributes, operation):\n",
    "    if operation == 'encode':\n",
    "        #Converting to bytes like object\n",
    "        bytes_encoded = messageAttributes.encode('ascii')\n",
    "        #Converting to base64\n",
    "        result = base64.b64encode(bytes_encoded).decode('ascii')\n",
    "        return result\n",
    "    elif operation == 'decode':\n",
    "        result = base64.b64decode(messageAttributes).decode('ascii')\n",
    "        return result"
   ]
  },
  {
   "cell_type": "code",
   "execution_count": 171,
   "id": "2777d4fd",
   "metadata": {},
   "outputs": [],
   "source": [
    "def transform(messages):\n",
    "    #Transformed messages result to be stored\n",
    "    transformed_messages = []\n",
    "    \n",
    "    try:\n",
    "        if len(messages) == 0:\n",
    "            raise IndexError('Message queue is empty')\n",
    "    except IndexError as error:\n",
    "        print(\"Error - \" + str(error))\n",
    "        sys.exit()\n",
    "    \n",
    "    for message in messages:\n",
    "        messageBody = json.loads(message['Body'])\n",
    "        \n",
    "        #Get IP and device_id from messageBody\n",
    "        ip = messageBody['ip']\n",
    "        device_id = messageBody['device_id']\n",
    "        \n",
    "        # Reference: https://stackabuse.com/encoding-and-decoding-base64-strings-in-python/\n",
    "        # Masking IP and device_id using base64 encoding technique\n",
    "        encodedIP = encodeAndDecode(ip, 'encode')\n",
    "        encodedDeviceID = encodeAndDecode(device_id, 'encode')\n",
    "        \n",
    "        #Replacing masked IP and device_id with the original attributes\n",
    "        messageBody['ip'] = encodedIP\n",
    "        messageBody['device_id'] = encodedDeviceID\n",
    "        \n",
    "        #Replacing None with 'None' to insert into postgres\n",
    "        messageBody['locale'] = 'None' if messageBody['locale'] == None else messageBody['locale']\n",
    "        \n",
    "        #Adding create date\n",
    "        messageBody['create_date'] = datetime.now().strftime(\"%Y-%m-%d\")\n",
    "        transformed_messages.append(messageBody)\n",
    "\n",
    "    return transformed_messages\n",
    "        "
   ]
  },
  {
   "cell_type": "code",
   "execution_count": 172,
   "id": "8999f040",
   "metadata": {},
   "outputs": [
    {
     "data": {
      "text/plain": [
       "['424cdd21-063a-43a7-b91b-7ca1a833afae',\n",
       " '2.3.0',\n",
       " 'android',\n",
       " 'MTk5LjE3Mi4xMTEuMTM1',\n",
       " 'RU',\n",
       " 'NTkzLTQ3LTU5Mjg=',\n",
       " '2023-01-17']"
      ]
     },
     "execution_count": 172,
     "metadata": {},
     "output_type": "execute_result"
    }
   ],
   "source": [
    "transformed_messages = transform(messages)\n",
    "list(transformed_messages[0].values())"
   ]
  },
  {
   "cell_type": "code",
   "execution_count": 169,
   "id": "28a34cef",
   "metadata": {},
   "outputs": [],
   "source": [
    "def loadMessages(transformed_messages):\n",
    "    try:\n",
    "        if len(transformed_messages) == 0:\n",
    "            raise IndexError\n",
    "    except IndexError as error:\n",
    "        print('Error - '+ str(error))\n",
    "        sys.exit()\n",
    "    \n",
    "    con = psycopg2.connect(dbname = 'postgres', user = 'postgres', password = 'postgres')\n",
    "    cursor = con.cursor()\n",
    "    for i in range(len(transformed_messages)):\n",
    "        data = list(transformed_messages[i].values())\n",
    "        cursor.execute(\"INSERT into user_logins( \\\n",
    "                        user_id, app_version, device_type, masked_ip, locale, masked_device_id, create_date \\\n",
    "                        )VALUES(%s,%s,%s,%s,%s,%s,%s);\",data)\n",
    "        con.commit()\n",
    "    con.close()\n",
    "    return"
   ]
  },
  {
   "cell_type": "code",
   "execution_count": 170,
   "id": "27e4e189",
   "metadata": {},
   "outputs": [],
   "source": [
    "loadMessages(transformed_messages)"
   ]
  },
  {
   "cell_type": "code",
   "execution_count": null,
   "id": "673059f1",
   "metadata": {},
   "outputs": [],
   "source": []
  }
 ],
 "metadata": {
  "kernelspec": {
   "display_name": "Python 3",
   "language": "python",
   "name": "python3"
  },
  "language_info": {
   "codemirror_mode": {
    "name": "ipython",
    "version": 3
   },
   "file_extension": ".py",
   "mimetype": "text/x-python",
   "name": "python",
   "nbconvert_exporter": "python",
   "pygments_lexer": "ipython3",
   "version": "3.9.13"
  }
 },
 "nbformat": 4,
 "nbformat_minor": 5
}
